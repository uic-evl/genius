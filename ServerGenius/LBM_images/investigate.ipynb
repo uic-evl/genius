{
 "cells": [
  {
   "cell_type": "code",
   "execution_count": null,
   "id": "60f47b70-f50b-406b-9bb1-bdab21bebf76",
   "metadata": {},
   "outputs": [
    {
     "name": "stdout",
     "output_type": "stream",
     "text": [
      "no backend - use %connect\n"
     ]
    }
   ],
   "source": [
    "%connect"
   ]
  },
  {
   "cell_type": "code",
   "execution_count": null,
   "id": "c0cbad07-283d-4079-99fa-5f2145b7161c",
   "metadata": {},
   "outputs": [
    {
     "name": "stdout",
     "output_type": "stream",
     "text": [
      "no backend - use %connect\n"
     ]
    }
   ],
   "source": [
    "# Imports\n",
    "import numpy as np\n",
    "from mpi4py import MPI\n",
    "from conduit import Node"
   ]
  },
  {
   "cell_type": "code",
   "execution_count": null,
   "id": "8d57fab0-6d41-4617-b055-6144526bb264",
   "metadata": {},
   "outputs": [
    {
     "name": "stdout",
     "output_type": "stream",
     "text": [
      "no backend - use %connect\n"
     ]
    }
   ],
   "source": [
    "# We already know that we have numerical instability thanks to ascent triggers,\n",
    "# but we can double check for ourselves. Lets see if we have any negative\n",
    "# density values:\n",
    "\n",
    "# Get the MPI communicator\n",
    "comm = MPI.Comm.f2py(ascent_mpi_comm_id())\n",
    "\n",
    "# Get each rank's published data\n",
    "mesh_data = ascent_data().child(0)\n",
    "\n",
    "# Specifically, retrieve the density values\n",
    "density_vals = mesh_data[\"fields/density/values\"]\n",
    "\n",
    "# Compute the minimum density value for each rank\n",
    "density_min = density_vals.min()\n",
    "\n",
    "# Allreduce to find the absolute minimum density value\n",
    "density_min_all = np.zeros(1)\n",
    "comm.Allreduce(density_min, density_min_all, op=MPI.MIN)\n",
    "\n",
    "# Print the minimum density value on rank 0\n",
    "if comm.Get_rank() == 0:\n",
    "    print(f\"Minimum density value: {density_min_all}\")"
   ]
  },
  {
   "cell_type": "code",
   "execution_count": null,
   "id": "a01add3a-8744-479f-8ab6-31689b0061a9",
   "metadata": {},
   "outputs": [],
   "source": [
    "# In this toy example, we purposefully set the number of timesteps to be too small.\n",
    "# Lets manually fix the problem without restarting the simulation:"
   ]
  },
  {
   "cell_type": "code",
   "execution_count": null,
   "id": "cf7b2ef2",
   "metadata": {},
   "outputs": [],
   "source": [
    "# First, we query the simulation's current runtime info\n",
    "\n",
    "output = Node()\n",
    "jupyter_ascent.execute_callback(\"getSimInfo\", Node(), output)\n",
    "print(output)"
   ]
  },
  {
   "cell_type": "code",
   "execution_count": null,
   "id": "d28e3973",
   "metadata": {},
   "outputs": [],
   "source": [
    "# Yep, 320 timesteps is too low"
   ]
  },
  {
   "cell_type": "code",
   "execution_count": null,
   "id": "14540cca",
   "metadata": {},
   "outputs": [],
   "source": [
    "# Second, we manually restore the last stable checkpoint\n",
    "\n",
    "jupyter_ascent.execute_callback(\"restorePreviousState\", Node(), Node())"
   ]
  },
  {
   "cell_type": "code",
   "execution_count": null,
   "id": "f1133469",
   "metadata": {},
   "outputs": [],
   "source": [
    "# Third, increase timesteps from 320 to 3200\n",
    "\n",
    "params = conduit.Node()\n",
    "params[\"timesteps\"] = 3200\n",
    "jupyter_ascent.execute_callback(\"setNumTimesteps\", params, Node())"
   ]
  },
  {
   "cell_type": "code",
   "execution_count": null,
   "id": "8b2f2655",
   "metadata": {},
   "outputs": [],
   "source": [
    "# Finally, query the simulation's runtime info again to verify our changes\n",
    "\n",
    "output = Node()\n",
    "jupyter_ascent.execute_callback(\"getSimInfo\", Node(), output)\n",
    "print(output)"
   ]
  },
  {
   "cell_type": "code",
   "execution_count": null,
   "id": "d3d0d680-36c6-40f0-abe3-b2f331ee4296",
   "metadata": {},
   "outputs": [],
   "source": [
    "%disconnect"
   ]
  }
 ],
 "metadata": {
  "kernelspec": {
   "display_name": "Ascent Bridge",
   "language": "python",
   "name": "ascent_jupyter_bridge"
  },
  "language_info": {
   "codemirror_mode": {
    "name": "ipython",
    "version": 3
   },
   "file_extension": ".py",
   "mimetype": "text/x-python",
   "name": "python",
   "nbconvert_exporter": "python",
   "pygments_lexer": "ipython3",
   "version": "3.11.3"
  }
 },
 "nbformat": 4,
 "nbformat_minor": 5
}
